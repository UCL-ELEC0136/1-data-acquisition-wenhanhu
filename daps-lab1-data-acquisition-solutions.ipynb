{
 "cells": [
  {
   "cell_type": "markdown",
   "metadata": {
    "id": "jenv-YgSElT1"
   },
   "source": [
    "# Task 1: Small case scenario of dataset analysis"
   ]
  },
  {
   "cell_type": "markdown",
   "metadata": {
    "id": "pZ6YahZgAZvB"
   },
   "source": [
    "## 1.1 - Create a dataset (The Tate Collection)\n",
    "As a first example, we will create our own small dataset. In particular, the dataset will consist of 10 artists which are present in the Tate Collection along with the corresponding year of birth, year of death, biological gender and number of artworks.\n",
    "\n",
    "|          Name         | Gender |   Year_Birth  |   Year_Death  | N_works |\n",
    "|-----------------------|--------|---------------|---------------|---------|\n",
    "|     Beuys, Joseph     |  Male  |      1921\t |      1986     |   588   |\n",
    "|    Constable, John    |  Male  |      1776\t |      1837\t |   249   |\n",
    "|   Daniell, William    |  Male  |      1769\t |      1837\t |   612   |\n",
    "|   Forbes, Elizabeth   | Female |      1859\t |      1912\t |   120   |\n",
    "|     Flaxman, John     |  Male  |      1755\t |      1826\t |   287   |\n",
    "|    Phillips, Thomas   |  Male  |      1770\t |      1845\t |   274   |\n",
    "| Paolozzi, Sir Eduardo |  Male  |      1924\t |      2005\t |   385   |\n",
    "|     Schendel, Mira    | Female |      1919\t |      1988\t |    3    |\n",
    "|    Turner, William    |  Male  |      1775\t |      1851\t |  1861   |\n",
    "|      Warhol, Andy     |  Male  |      1928\t |      1987\t |   272   |\n"
   ]
  },
  {
   "cell_type": "markdown",
   "metadata": {
    "id": "TV1sgIOzAZvD"
   },
   "source": [
    "**_[TO DO]_**: Let's create a DataFrame named **TateDataset** with the information showed in the above table.\n",
    "\n",
    "**Note:** You can create arrays for each column and then build the DataFrame.\n",
    "Remember to import the required libraries!"
   ]
  },
  {
   "cell_type": "code",
   "execution_count": null,
   "metadata": {
    "cellView": "both",
    "executionInfo": {
     "elapsed": 1615,
     "status": "ok",
     "timestamp": 1604070789726,
     "user": {
      "displayName": "Andrea Piccione",
      "photoUrl": "https://lh3.googleusercontent.com/a-/AOh14GiSPFO34Ds8ny26kw1UmmNXztv1KJ8K3YgBNM11gw=s64",
      "userId": "08515391909662815456"
     },
     "user_tz": -60
    },
    "id": "NxkzhjIGAZvF"
   },
   "outputs": [],
   "source": [
    "#@title Imports\n",
    "import numpy as np\n",
    "import pandas as pd"
   ]
  },
  {
   "cell_type": "code",
   "execution_count": null,
   "metadata": {
    "colab": {
     "base_uri": "https://localhost:8080/",
     "height": 343
    },
    "executionInfo": {
     "elapsed": 975,
     "status": "ok",
     "timestamp": 1604070825813,
     "user": {
      "displayName": "Andrea Piccione",
      "photoUrl": "https://lh3.googleusercontent.com/a-/AOh14GiSPFO34Ds8ny26kw1UmmNXztv1KJ8K3YgBNM11gw=s64",
      "userId": "08515391909662815456"
     },
     "user_tz": -60
    },
    "id": "FWsJFvTQB3hX",
    "outputId": "1ba5f007-8a1c-400f-ced1-637613674118"
   },
   "outputs": [],
   "source": [
    "name = ['Beuys, Joseph', 'Constable, John', 'Daniell, William', 'Forbes, Elizabeth', 'Flaxman, John', 'Phillips, Thomas',\n",
    "        'Paolozzi, Sir Eduardo', 'Schendel, Mira', 'Turner, William', 'Warhol, Andy']\n",
    "\n",
    "gender = ['Male', 'Male', 'Male', 'Female', 'Male', 'Male', 'Male', 'Female', 'Male', 'Male']\n",
    "year_birth = np.array([1921, 1776, 1769, 1859, 1755, 1770, 1924, 1919, 1775, 1928], dtype=np.int64)\n",
    "year_death = np.array([1986, 1837, 1837, 1912, 1826, 1845, 2005, 1988, 1851, 1987], dtype=np.int64)\n",
    "n_works = np.array([588, 249, 612, 120, 287, 274, 385, 3, 1861, 272], dtype=np.int64)\n",
    "\n",
    "columns = ['Name', 'Gender', 'Year_Birth', 'Year_Death', 'N_works']\n",
    "\n",
    "d = {'Name': name, 'Gender': gender, 'Year_Birth': year_birth, 'Year_Death': year_death, 'N_works': n_works}\n",
    "\n",
    "tate_dataset = pd.DataFrame(data=d)\n",
    "tate_dataset"
   ]
  },
  {
   "cell_type": "markdown",
   "metadata": {
    "id": "0P3DpT-VAZvO"
   },
   "source": [
    "## 1.2 - Data Acquisition (local file)\n",
    "\n",
    "Data acquisition is a process of loading and reading data from various sources. We will learn how to export and read data from a local file in different format using  **Pandas** package. \n",
    "\n",
    "A file format is a standardised way in which information is encoded to be stored in a file. Some examples of file formats are: CSV, XLSX, and PKL. \n",
    "\n",
    "Let's practice with some examples.\n",
    "\n",
    "### .CSV - Comma Separated Values\n",
    "\n",
    "CSV is one of the most popular spreadsheet file format. In this kind of file, data is stored in cells. Each cell is organized in rows and columns. A column in the spreadsheet file can have different types. \n",
    "\n",
    "Let us look at how to create a CSV file. We can export a DataFrame with the Pandas function `to_csv()`. The file will be saved in the same location of this notebook unless specified otherwise. We can name the file **TateData.csv**.\n",
    "\n",
    "**Note:** Once you have run the following cell, check the output file ."
   ]
  },
  {
   "cell_type": "code",
   "execution_count": null,
   "metadata": {
    "executionInfo": {
     "elapsed": 1609,
     "status": "ok",
     "timestamp": 1604070851237,
     "user": {
      "displayName": "Andrea Piccione",
      "photoUrl": "https://lh3.googleusercontent.com/a-/AOh14GiSPFO34Ds8ny26kw1UmmNXztv1KJ8K3YgBNM11gw=s64",
      "userId": "08515391909662815456"
     },
     "user_tz": -60
    },
    "id": "DcFThhwRAZvP"
   },
   "outputs": [],
   "source": [
    "tate_dataset.to_csv('tate_dataset.csv', index=False, header=True)"
   ]
  },
  {
   "cell_type": "markdown",
   "metadata": {
    "id": "54BZQJs8AZvU"
   },
   "source": [
    "To pull in the csv file, we will use the Pandas function `read_csv()`. We will import the previous file in a new DataFrame.\n",
    "\n",
    "**Note:**  Depending on where you save your notebooks, you may need to modify the location below."
   ]
  },
  {
   "cell_type": "code",
   "execution_count": null,
   "metadata": {
    "colab": {
     "base_uri": "https://localhost:8080/",
     "height": 343
    },
    "executionInfo": {
     "elapsed": 1049,
     "status": "ok",
     "timestamp": 1604070854462,
     "user": {
      "displayName": "Andrea Piccione",
      "photoUrl": "https://lh3.googleusercontent.com/a-/AOh14GiSPFO34Ds8ny26kw1UmmNXztv1KJ8K3YgBNM11gw=s64",
      "userId": "08515391909662815456"
     },
     "user_tz": -60
    },
    "id": "PcO3epU5AZvV",
    "outputId": "e1c29cf0-0400-4842-fff7-786959e64250"
   },
   "outputs": [],
   "source": [
    "tate_1 = pd.read_csv('tate_dataset.csv')\n",
    "tate_1"
   ]
  },
  {
   "cell_type": "markdown",
   "metadata": {
    "id": "1CmXNd9jAZva"
   },
   "source": [
    "When we create the .CSV file, the only parameter we have used is **index**. \n",
    "\n",
    "**[TO DO]** What happens if we set the *index* parameter to True? And if you set also the parameter **header** to False?\n",
    "Try by yourself. \n",
    "\n",
    "*The parameter index set to **True** creates an additional column with the index number. Whereas if we set header=**False**, then the first line in the .csv file would be dropped and the second one would be considered as the key for each column (which is far from being appropriate in this case)*"
   ]
  },
  {
   "cell_type": "code",
   "execution_count": null,
   "metadata": {
    "colab": {
     "base_uri": "https://localhost:8080/",
     "height": 314
    },
    "executionInfo": {
     "elapsed": 990,
     "status": "ok",
     "timestamp": 1604070989153,
     "user": {
      "displayName": "Andrea Piccione",
      "photoUrl": "https://lh3.googleusercontent.com/a-/AOh14GiSPFO34Ds8ny26kw1UmmNXztv1KJ8K3YgBNM11gw=s64",
      "userId": "08515391909662815456"
     },
     "user_tz": -60
    },
    "id": "egR7HZLaAZvb",
    "outputId": "d48148a0-84e5-4904-bef1-1b7498540b45"
   },
   "outputs": [],
   "source": [
    "tate_dataset.to_csv('tate_dataset.csv', index=True, header=False)\n",
    "tate_1 = pd.read_csv('tate_dataset.csv')\n",
    "tate_1"
   ]
  },
  {
   "cell_type": "markdown",
   "metadata": {
    "id": "0tHt7lPFAZvf"
   },
   "source": [
    "Delete the csv file now that we are done using it."
   ]
  },
  {
   "cell_type": "markdown",
   "metadata": {
    "id": "oQLf1Y_hAZvr"
   },
   "source": [
    "### pickle — Python object serialization\n",
    "\n",
    "This data format is Python-specific. This has the advantage that there are no restrictions imposed by external standards; however it means that non-Python programs may not be able to reconstruct pickled Python objects.\n",
    "\n"
   ]
  },
  {
   "cell_type": "code",
   "execution_count": null,
   "metadata": {
    "executionInfo": {
     "elapsed": 1110,
     "status": "ok",
     "timestamp": 1604070997523,
     "user": {
      "displayName": "Andrea Piccione",
      "photoUrl": "https://lh3.googleusercontent.com/a-/AOh14GiSPFO34Ds8ny26kw1UmmNXztv1KJ8K3YgBNM11gw=s64",
      "userId": "08515391909662815456"
     },
     "user_tz": -60
    },
    "id": "stKRPdBTAZvr"
   },
   "outputs": [],
   "source": [
    "import pickle\n",
    "\n",
    "tate_dataset.to_pickle('tate_dataset.pkl')\n"
   ]
  },
  {
   "cell_type": "code",
   "execution_count": null,
   "metadata": {
    "colab": {
     "base_uri": "https://localhost:8080/",
     "height": 343
    },
    "executionInfo": {
     "elapsed": 929,
     "status": "ok",
     "timestamp": 1604071000581,
     "user": {
      "displayName": "Andrea Piccione",
      "photoUrl": "https://lh3.googleusercontent.com/a-/AOh14GiSPFO34Ds8ny26kw1UmmNXztv1KJ8K3YgBNM11gw=s64",
      "userId": "08515391909662815456"
     },
     "user_tz": -60
    },
    "id": "Rc7RsQeKAZvt",
    "outputId": "224feed5-3d8a-470a-f3ec-351b4d4de829"
   },
   "outputs": [],
   "source": [
    "tate_2 = pd.read_pickle('tate_dataset.pkl')\n",
    "tate_2"
   ]
  },
  {
   "cell_type": "markdown",
   "metadata": {
    "id": "4vHSnaOQAZvv"
   },
   "source": [
    "## 1.3 - Look at the data\n",
    "\n",
    "Now we will simply have a look at the data and make sure it is clean. \n",
    "\n",
    "### Data type\n",
    "Let's check the data type of the imported variables and the original DataFrame."
   ]
  },
  {
   "cell_type": "code",
   "execution_count": null,
   "metadata": {
    "id": "AV3eoT35AZvw"
   },
   "outputs": [],
   "source": [
    "# Check data type of the columns for Tate_1\n",
    "tate_1.dtypes"
   ]
  },
  {
   "cell_type": "code",
   "execution_count": null,
   "metadata": {
    "id": "ACysmIDSAZvy"
   },
   "outputs": [],
   "source": [
    "# Check data type of the columns for TateDataset\n",
    "tate_dataset.dtypes"
   ]
  },
  {
   "cell_type": "markdown",
   "metadata": {
    "id": "T3q0dEk0AZv0"
   },
   "source": [
    "We can also display the values of a single column and check their data type as follow:"
   ]
  },
  {
   "cell_type": "code",
   "execution_count": null,
   "metadata": {
    "id": "zfMt0x2lAZv0"
   },
   "outputs": [],
   "source": [
    "tate_dataset['Gender']"
   ]
  },
  {
   "cell_type": "markdown",
   "metadata": {
    "id": "hympM9yTEuud"
   },
   "source": [
    "# Task 2: Application Programming Interfaces (APIs)"
   ]
  },
  {
   "cell_type": "markdown",
   "metadata": {
    "id": "vOGrvILtFv0K"
   },
   "source": [
    "## 2.1 - Downloading climate data from the Internet\n",
    "\n",
    "We will now explore real world data, namely a dataset of climate information of 5 cities in Denmark between 1980-2018. The original raw-data was originally obtained from [National Climatic Data Center (NCDC)](https://www7.ncdc.noaa.gov/CDO/cdoselect.cmd).\n",
    "\n",
    "In particular, the selected cities in Denmark are:\n",
    "- Aalborg, \n",
    "- Aarhus, \n",
    "- Esbjerg, \n",
    "- Odense. \n",
    "- Roskilde\n",
    "\n",
    "In the following, we will download the dataset using an API instead of loading a local source file.\n",
    "\n",
    "### What is an API? \n",
    "Application Programming Interface (API) is a communication protocol between the user and the server (i.e., web server) that enables transmittion of data. The user making a request to an API server can download the desidered resources. \n",
    "\n",
    "### How to make a request in python?\n",
    "There are many different way to request data. \n",
    "In the following, we will use the package **urllib** that collects several modules for working with URLs.\n",
    "\n",
    "In particular, [urlib.request](https://docs.python.org/3/library/urllib.request.html#module-urllib.request) is a module for opening and reading URLs.\n"
   ]
  },
  {
   "cell_type": "markdown",
   "metadata": {
    "id": "DiwhudMrKQUP"
   },
   "source": [
    "### - Download climate data\n",
    "\n",
    "\n",
    "The following functions allow to download and store the dataset in a specific folder.\n",
    "\n",
    "How to use:\n",
    "\n",
    "- Set the source (i.e., URL) of the desidered dataset in `data_url`.\n",
    "- Set the `data_dir` variable with the local directory where to store the data.\n",
    "- Call `download_and_extract()` to download the dataset if it is not already located in the given data_dir.\n",
    "- Load the data in the interactive Python notebook so it can be used in your scripts (you can use `load_original_data()`).\n",
    "\n",
    "**NOTE** Open the tab below to see the downloading functions in more detail."
   ]
  },
  {
   "cell_type": "code",
   "execution_count": null,
   "metadata": {
    "cellView": "both",
    "executionInfo": {
     "elapsed": 1049,
     "status": "ok",
     "timestamp": 1604071113039,
     "user": {
      "displayName": "Andrea Piccione",
      "photoUrl": "https://lh3.googleusercontent.com/a-/AOh14GiSPFO34Ds8ny26kw1UmmNXztv1KJ8K3YgBNM11gw=s64",
      "userId": "08515391909662815456"
     },
     "user_tz": -60
    },
    "id": "DjVqxHOLE6I4"
   },
   "outputs": [],
   "source": [
    "#@title Functions to download data \n",
    "########################################################################\n",
    "#\n",
    "# This file is a partially modified version of one of the TensorFlow Tutorials available at:\n",
    "#\n",
    "# https://github.com/Hvass-Labs/TensorFlow-Tutorials\n",
    "#\n",
    "# Published under the MIT License. See the file LICENSE for details.\n",
    "#\n",
    "# Copyright 2018 by Magnus Erik Hvass Pedersen\n",
    "#\n",
    "########################################################################\n",
    "\n",
    "import sys\n",
    "import os\n",
    "import urllib.request\n",
    "import tarfile\n",
    "import zipfile\n",
    "\n",
    "\n",
    "\n",
    "def _print_download_progress(count, block_size, total_size):\n",
    "    \"\"\"\n",
    "    Function used for printing the download progress.\n",
    "    Used as a call-back function in maybe_download_and_extract().\n",
    "    \"\"\"\n",
    "\n",
    "    # Percentage completion.\n",
    "    pct_complete = float(count * block_size) / total_size\n",
    "\n",
    "    # Limit it because rounding errors may cause it to exceed 100%.\n",
    "    pct_complete = min(1.0, pct_complete)\n",
    "\n",
    "    # Status-message. Note the \\r which means the line should overwrite itself.\n",
    "    msg = \"\\r- Download progress: {0:.1%}\".format(pct_complete)\n",
    "\n",
    "    # Print it.\n",
    "    sys.stdout.write(msg)\n",
    "    sys.stdout.flush()\n",
    "\n",
    "\n",
    "def download(base_url, filename, download_dir):\n",
    "    \"\"\"\n",
    "    Download the given file if it does not already exist in the download_dir.\n",
    "    :param base_url: The internet URL without the filename.\n",
    "    :param filename: The filename that will be added to the base_url.\n",
    "    :param download_dir: Local directory for storing the file.\n",
    "    \"\"\"\n",
    "\n",
    "    # Path for local file.\n",
    "    save_path = os.path.join(download_dir, filename)\n",
    "\n",
    "    # Check if the file already exists, otherwise we need to download it now.\n",
    "    if not os.path.exists(save_path):\n",
    "        # Check if the download directory exists, otherwise create it.\n",
    "        if not os.path.exists(download_dir):\n",
    "            os.makedirs(download_dir)\n",
    "\n",
    "        print(\"Downloading\", filename, \"...\")\n",
    "\n",
    "        # Download the file from the internet.\n",
    "        url = base_url + filename\n",
    "        file_path, _ = urllib.request.urlretrieve(url=url,\n",
    "                                                  filename=save_path,\n",
    "                                                  reporthook=_print_download_progress)\n",
    "\n",
    "        print(\" Done!\")\n",
    "\n",
    "\n",
    "def download_and_extract(url, download_dir):\n",
    "    \"\"\"\n",
    "    Download and extract the data if it doesn't already exist.\n",
    "    Assumes the url is a tar-ball file.\n",
    "    :param url:\n",
    "        Internet URL for the tar-file to download.\n",
    "    :param download_dir:\n",
    "        Directory where the downloaded file is saved.\n",
    "    \"\"\"\n",
    "\n",
    "    # Filename for saving the file downloaded from the internet.\n",
    "    # Use the filename from the URL and add it to the download_dir.\n",
    "    filename = url.split('/')[-1]\n",
    "    file_path = os.path.join(download_dir, filename)\n",
    "\n",
    "    # Check if the file already exists.\n",
    "    # If it exists then we assume it has also been extracted,\n",
    "    # otherwise we need to download and extract it now.\n",
    "    if not os.path.exists(file_path):\n",
    "        # Check if the download directory exists, otherwise create it.\n",
    "        if not os.path.exists(download_dir):\n",
    "            os.makedirs(download_dir)\n",
    "\n",
    "        # Download the file from the internet.\n",
    "        file_path, _ = urllib.request.urlretrieve(url=url,\n",
    "                                                  filename=file_path,\n",
    "                                                  reporthook=_print_download_progress)\n",
    "\n",
    "        print()\n",
    "        print(\"Download finished. Extracting files.\")\n",
    "\n",
    "        if file_path.endswith(\".zip\"):\n",
    "            # Unpack the zip-file.\n",
    "            zipfile.ZipFile(file=file_path, mode=\"r\").extractall(download_dir)\n",
    "        elif file_path.endswith((\".tar.gz\", \".tgz\")):\n",
    "            # Unpack the tar-ball.\n",
    "            tarfile.open(name=file_path, mode=\"r:gz\").extractall(download_dir)\n",
    "\n",
    "        print(\"Done.\")\n",
    "    else:\n",
    "        print(\"Data has apparently already been downloaded and unpacked.\")\n",
    "        "
   ]
  },
  {
   "cell_type": "markdown",
   "metadata": {
    "id": "jhAOVRKTclRR"
   },
   "source": [
    "First, we define where we want to download the dataset (you are free to choose another directory) and the URL of the dataset to be downloaded."
   ]
  },
  {
   "cell_type": "code",
   "execution_count": null,
   "metadata": {
    "executionInfo": {
     "elapsed": 957,
     "status": "ok",
     "timestamp": 1604071101749,
     "user": {
      "displayName": "Andrea Piccione",
      "photoUrl": "https://lh3.googleusercontent.com/a-/AOh14GiSPFO34Ds8ny26kw1UmmNXztv1KJ8K3YgBNM11gw=s64",
      "userId": "08515391909662815456"
     },
     "user_tz": -60
    },
    "id": "mPl5lGC_cjRa"
   },
   "outputs": [],
   "source": [
    "# Location of the dataset on the internet.\n",
    "data_url = \"https://github.com/Hvass-Labs/weather-denmark/raw/master/weather-denmark.tar.gz\"\n",
    "\n",
    "# Local directory where you want to download and save the dataset.\n",
    "data_dir = \"weather-data/\""
   ]
  },
  {
   "cell_type": "markdown",
   "metadata": {
    "id": "_fUv_1U7AGIS"
   },
   "source": [
    "Now, we can download the dataset into the chosen local directory"
   ]
  },
  {
   "cell_type": "code",
   "execution_count": null,
   "metadata": {
    "colab": {
     "base_uri": "https://localhost:8080/"
    },
    "executionInfo": {
     "elapsed": 15580,
     "status": "ok",
     "timestamp": 1604071138763,
     "user": {
      "displayName": "Andrea Piccione",
      "photoUrl": "https://lh3.googleusercontent.com/a-/AOh14GiSPFO34Ds8ny26kw1UmmNXztv1KJ8K3YgBNM11gw=s64",
      "userId": "08515391909662815456"
     },
     "user_tz": -60
    },
    "id": "6P4iL6WfAGIT",
    "outputId": "bb35e850-3937-4b0a-8bb2-f35b752edd52"
   },
   "outputs": [],
   "source": [
    "download_and_extract(url=data_url, download_dir=data_dir)"
   ]
  },
  {
   "cell_type": "markdown",
   "metadata": {
    "id": "sLC9mO_RAGIY"
   },
   "source": [
    "**[TO DO]:** Check the local folder? In which format the dataset has been downloaded?\n",
    "*The data has been downloaded in two different formats: .csv and .pkl. We can decide which one to use (Pandas can easily handle both of them).*\n",
    "\n",
    "**[TO DO]:** Select a format and load the dataset ."
   ]
  },
  {
   "cell_type": "code",
   "execution_count": null,
   "metadata": {
    "colab": {
     "base_uri": "https://localhost:8080/",
     "height": 402
    },
    "executionInfo": {
     "elapsed": 3579,
     "status": "ok",
     "timestamp": 1604071273314,
     "user": {
      "displayName": "Andrea Piccione",
      "photoUrl": "https://lh3.googleusercontent.com/a-/AOh14GiSPFO34Ds8ny26kw1UmmNXztv1KJ8K3YgBNM11gw=s64",
      "userId": "08515391909662815456"
     },
     "user_tz": -60
    },
    "id": "36clsIOhq_CR",
    "outputId": "72e07848-4917-4dd4-ef1c-162c53fea3ee"
   },
   "outputs": [],
   "source": [
    "df_csv = pd.read_csv('./weather-data/weather-denmark.csv')\n",
    "\n",
    "df_csv"
   ]
  },
  {
   "cell_type": "markdown",
   "metadata": {
    "id": "MN4_qGC4AGIc"
   },
   "source": [
    "**More advanced solution for loading dataset**:\n",
    "\n",
    "In this case, the dataset was downloaded in two different formats. \n",
    "We can define the path where the files have been stored as follows:\n",
    "- **path_original_data_pickle( )** is the location of the original data in pickle format\n",
    "- **path_original_data_csv( )** is the location the original data in .csv"
   ]
  },
  {
   "cell_type": "code",
   "execution_count": null,
   "metadata": {
    "executionInfo": {
     "elapsed": 895,
     "status": "ok",
     "timestamp": 1604071322605,
     "user": {
      "displayName": "Andrea Piccione",
      "photoUrl": "https://lh3.googleusercontent.com/a-/AOh14GiSPFO34Ds8ny26kw1UmmNXztv1KJ8K3YgBNM11gw=s64",
      "userId": "08515391909662815456"
     },
     "user_tz": -60
    },
    "id": "NO8jevNRAGIc"
   },
   "outputs": [],
   "source": [
    "def path_original_data_pickle():\n",
    "    return os.path.join(data_dir, \"weather-denmark.pkl\")\n",
    "\n",
    "def path_original_data_csv():\n",
    "    return os.path.join(data_dir, \"weather-denmark.csv\")"
   ]
  },
  {
   "cell_type": "markdown",
   "metadata": {
    "id": "KoNQaCyAAGIg"
   },
   "source": [
    "Now we can load the data in pickle format through the following function:"
   ]
  },
  {
   "cell_type": "code",
   "execution_count": null,
   "metadata": {
    "executionInfo": {
     "elapsed": 965,
     "status": "ok",
     "timestamp": 1604071324550,
     "user": {
      "displayName": "Andrea Piccione",
      "photoUrl": "https://lh3.googleusercontent.com/a-/AOh14GiSPFO34Ds8ny26kw1UmmNXztv1KJ8K3YgBNM11gw=s64",
      "userId": "08515391909662815456"
     },
     "user_tz": -60
    },
    "id": "JHdwG7c6AGIh"
   },
   "outputs": [],
   "source": [
    "def load_original_data():\n",
    "    return pd.read_pickle(path_original_data_pickle())"
   ]
  },
  {
   "cell_type": "code",
   "execution_count": null,
   "metadata": {
    "colab": {
     "base_uri": "https://localhost:8080/",
     "height": 431
    },
    "executionInfo": {
     "elapsed": 945,
     "status": "ok",
     "timestamp": 1604071326911,
     "user": {
      "displayName": "Andrea Piccione",
      "photoUrl": "https://lh3.googleusercontent.com/a-/AOh14GiSPFO34Ds8ny26kw1UmmNXztv1KJ8K3YgBNM11gw=s64",
      "userId": "08515391909662815456"
     },
     "user_tz": -60
    },
    "id": "0-XPffh3AGIj",
    "outputId": "0437e8ff-bc1a-48bc-b6b0-1dc2c8295810"
   },
   "outputs": [],
   "source": [
    "df = load_original_data()\n",
    "df"
   ]
  },
  {
   "cell_type": "markdown",
   "metadata": {
    "id": "DMCJQr_SAGIm"
   },
   "source": [
    "### - Undestanding the data\n",
    "\n",
    "**_[TO DO]_**: Have a quick overview of the downloaded dataset. \n",
    "In particular, focus on:\n",
    "\n",
    "- Understanding the variables contained in the dataframe\n",
    "- Check the DateTime for 2 cities\n",
    "\n",
    "*In this case, the index of the dataframe is not an integer (i.e., 0, 1, 2,...) as seen in the previous lab. But we have a multiple index (MultiIndex) [pandas.DataFrame.xs](https://pandas.pydata.org/pandas-docs/stable/reference/api/pandas.DataFrame.xs.html). Check the website to see how to select the data of the desidered city.*"
   ]
  },
  {
   "cell_type": "code",
   "execution_count": null,
   "metadata": {
    "colab": {
     "base_uri": "https://localhost:8080/"
    },
    "executionInfo": {
     "elapsed": 1268,
     "status": "ok",
     "timestamp": 1604071331320,
     "user": {
      "displayName": "Andrea Piccione",
      "photoUrl": "https://lh3.googleusercontent.com/a-/AOh14GiSPFO34Ds8ny26kw1UmmNXztv1KJ8K3YgBNM11gw=s64",
      "userId": "08515391909662815456"
     },
     "user_tz": -60
    },
    "id": "-_dXNZFqd6rk",
    "outputId": "6653c3b3-7e3a-49c2-cbac-b4b4ed3a1ed2"
   },
   "outputs": [],
   "source": [
    "print(df.columns)\n",
    "print(df.index)"
   ]
  },
  {
   "cell_type": "code",
   "execution_count": null,
   "metadata": {
    "colab": {
     "base_uri": "https://localhost:8080/"
    },
    "executionInfo": {
     "elapsed": 921,
     "status": "ok",
     "timestamp": 1604071543095,
     "user": {
      "displayName": "Andrea Piccione",
      "photoUrl": "https://lh3.googleusercontent.com/a-/AOh14GiSPFO34Ds8ny26kw1UmmNXztv1KJ8K3YgBNM11gw=s64",
      "userId": "08515391909662815456"
     },
     "user_tz": -60
    },
    "id": "gpBrFaV5HB1H",
    "outputId": "6d6cadd8-d9c9-471b-ea09-ecd7ef1768e3"
   },
   "outputs": [],
   "source": [
    "df.xs('Aalborg').index"
   ]
  },
  {
   "cell_type": "code",
   "execution_count": null,
   "metadata": {
    "colab": {
     "base_uri": "https://localhost:8080/"
    },
    "executionInfo": {
     "elapsed": 1001,
     "status": "ok",
     "timestamp": 1604071563600,
     "user": {
      "displayName": "Andrea Piccione",
      "photoUrl": "https://lh3.googleusercontent.com/a-/AOh14GiSPFO34Ds8ny26kw1UmmNXztv1KJ8K3YgBNM11gw=s64",
      "userId": "08515391909662815456"
     },
     "user_tz": -60
    },
    "id": "b66VS33xHWw0",
    "outputId": "4374cc28-6f33-4675-c355-af49d4928e3e"
   },
   "outputs": [],
   "source": [
    "df.xs('Roskilde').index"
   ]
  },
  {
   "cell_type": "markdown",
   "metadata": {
    "id": "ZYcAldYgeOmq"
   },
   "source": [
    "## 2.2 - Interacting with a server to query a subset of some data bank\n",
    "\n",
    "We will now learn how to query a data bank to retrieve only the relevant proportion data for a task. We will be using the World Bank Data API to access World's renewable energy consumtpion data. \n",
    "\n",
    "\n"
   ]
  },
  {
   "cell_type": "markdown",
   "metadata": {
    "id": "Pz0G-PnEllEE"
   },
   "source": [
    "You first need to install the World Bank API. In a terminal, run the following command:\n",
    "\n",
    "``>> pip install wbdata``\n",
    "\n"
   ]
  },
  {
   "cell_type": "code",
   "execution_count": null,
   "metadata": {
    "colab": {
     "base_uri": "https://localhost:8080/"
    },
    "executionInfo": {
     "elapsed": 5230,
     "status": "ok",
     "timestamp": 1604071605328,
     "user": {
      "displayName": "Andrea Piccione",
      "photoUrl": "https://lh3.googleusercontent.com/a-/AOh14GiSPFO34Ds8ny26kw1UmmNXztv1KJ8K3YgBNM11gw=s64",
      "userId": "08515391909662815456"
     },
     "user_tz": -60
    },
    "id": "TLfgZM1s9uwa",
    "outputId": "1ad45b96-d356-498b-c65d-b19615c0daab"
   },
   "outputs": [],
   "source": [
    "%pip install wbdata"
   ]
  },
  {
   "cell_type": "code",
   "execution_count": null,
   "metadata": {
    "cellView": "form",
    "executionInfo": {
     "elapsed": 1004,
     "status": "ok",
     "timestamp": 1604071608946,
     "user": {
      "displayName": "Andrea Piccione",
      "photoUrl": "https://lh3.googleusercontent.com/a-/AOh14GiSPFO34Ds8ny26kw1UmmNXztv1KJ8K3YgBNM11gw=s64",
      "userId": "08515391909662815456"
     },
     "user_tz": -60
    },
    "id": "TpOO5F8YkxyR"
   },
   "outputs": [],
   "source": [
    "#@title Imports\n",
    "import wbdata as wb\n",
    "import datetime"
   ]
  },
  {
   "cell_type": "markdown",
   "metadata": {
    "id": "QVnxwUpg9K22"
   },
   "source": [
    "### - Query the World Bank\n",
    "\n",
    "* **_[TO DO]_**: Use the wbdata to retrieve renewable energy consumption data of all countries in 2015.\n",
    "\n",
    "Hint: [wbdata documentation](https://wbdata.readthedocs.io/en/stable/)"
   ]
  },
  {
   "cell_type": "code",
   "execution_count": null,
   "metadata": {
    "executionInfo": {
     "elapsed": 2584,
     "status": "ok",
     "timestamp": 1604071613021,
     "user": {
      "displayName": "Andrea Piccione",
      "photoUrl": "https://lh3.googleusercontent.com/a-/AOh14GiSPFO34Ds8ny26kw1UmmNXztv1KJ8K3YgBNM11gw=s64",
      "userId": "08515391909662815456"
     },
     "user_tz": -60
    },
    "id": "NNnSSWZ_9K24"
   },
   "outputs": [],
   "source": [
    "### TODO\n",
    "import numpy as np\n",
    "import wbdata as wb\n",
    "\n",
    "# Selecting the time frame\n",
    "import datetime\n",
    "time_selection = (datetime.datetime(2015, 1, 1), datetime.datetime(2015, 12, 31))\n",
    "energy_data=wb.get_dataframe({'3.1_RE.CONSUMPTION' : 'Renewable energy consumption (TJ)'}, data_date=timeSelection)"
   ]
  },
  {
   "cell_type": "markdown",
   "metadata": {
    "id": "A7LFoovO9K28"
   },
   "source": [
    "### - Undestanding the data\n",
    "\n",
    "* **_[TO DO]_**: Display different data points "
   ]
  },
  {
   "cell_type": "code",
   "execution_count": null,
   "metadata": {
    "colab": {
     "base_uri": "https://localhost:8080/",
     "height": 225
    },
    "executionInfo": {
     "elapsed": 1012,
     "status": "ok",
     "timestamp": 1604071616984,
     "user": {
      "displayName": "Andrea Piccione",
      "photoUrl": "https://lh3.googleusercontent.com/a-/AOh14GiSPFO34Ds8ny26kw1UmmNXztv1KJ8K3YgBNM11gw=s64",
      "userId": "08515391909662815456"
     },
     "user_tz": -60
    },
    "id": "VsJvk9z_9K28",
    "outputId": "c434a7e6-4013-4e47-fd98-313945c1cdac"
   },
   "outputs": [],
   "source": [
    "energy_data.head()"
   ]
  },
  {
   "cell_type": "code",
   "execution_count": null,
   "metadata": {
    "colab": {
     "base_uri": "https://localhost:8080/"
    },
    "executionInfo": {
     "elapsed": 1333,
     "status": "ok",
     "timestamp": 1604071623799,
     "user": {
      "displayName": "Andrea Piccione",
      "photoUrl": "https://lh3.googleusercontent.com/a-/AOh14GiSPFO34Ds8ny26kw1UmmNXztv1KJ8K3YgBNM11gw=s64",
      "userId": "08515391909662815456"
     },
     "user_tz": -60
    },
    "id": "wv-l0DtK5_Zr",
    "outputId": "cbfebc22-0251-47e7-a613-304cf50db43a"
   },
   "outputs": [],
   "source": [
    "energy_data.dtypes"
   ]
  },
  {
   "cell_type": "code",
   "execution_count": null,
   "metadata": {
    "colab": {
     "base_uri": "https://localhost:8080/"
    },
    "executionInfo": {
     "elapsed": 573,
     "status": "ok",
     "timestamp": 1604071626545,
     "user": {
      "displayName": "Andrea Piccione",
      "photoUrl": "https://lh3.googleusercontent.com/a-/AOh14GiSPFO34Ds8ny26kw1UmmNXztv1KJ8K3YgBNM11gw=s64",
      "userId": "08515391909662815456"
     },
     "user_tz": -60
    },
    "id": "ezxQ9_f56P7o",
    "outputId": "4a2ad357-1dd3-44ca-ec13-254c7a36afdf"
   },
   "outputs": [],
   "source": [
    "energy_data['Renewable energy consumption (TJ)'][:50]"
   ]
  },
  {
   "cell_type": "markdown",
   "metadata": {
    "id": "sBjxWA7N9K3D"
   },
   "source": [
    "### - Exporting the data \n",
    "\n",
    "* **_[TO DO]_**: Save the retrieved renewable energy consumption data of all countries in 2015 in one .xlsx file\n",
    "* **_[TO DO]_**: Save the renewable energy consumption data from 2006 to 2016 for each European country in individual .csv files (one per country)"
   ]
  },
  {
   "cell_type": "code",
   "execution_count": null,
   "metadata": {
    "executionInfo": {
     "elapsed": 993,
     "status": "ok",
     "timestamp": 1604071632302,
     "user": {
      "displayName": "Andrea Piccione",
      "photoUrl": "https://lh3.googleusercontent.com/a-/AOh14GiSPFO34Ds8ny26kw1UmmNXztv1KJ8K3YgBNM11gw=s64",
      "userId": "08515391909662815456"
     },
     "user_tz": -60
    },
    "id": "walSuBFE9K3D"
   },
   "outputs": [],
   "source": [
    "energy_data.to_csv('renewable_energy_cosumption_2016.cvs')\n"
   ]
  },
  {
   "cell_type": "code",
   "execution_count": null,
   "metadata": {
    "executionInfo": {
     "elapsed": 1182,
     "status": "ok",
     "timestamp": 1604071636723,
     "user": {
      "displayName": "Andrea Piccione",
      "photoUrl": "https://lh3.googleusercontent.com/a-/AOh14GiSPFO34Ds8ny26kw1UmmNXztv1KJ8K3YgBNM11gw=s64",
      "userId": "08515391909662815456"
     },
     "user_tz": -60
    },
    "id": "vsvwnhU6BJNa"
   },
   "outputs": [],
   "source": [
    "# Import packages\n",
    "import requests\n",
    "import json"
   ]
  },
  {
   "cell_type": "code",
   "execution_count": null,
   "metadata": {
    "executionInfo": {
     "elapsed": 2775,
     "status": "ok",
     "timestamp": 1604071644677,
     "user": {
      "displayName": "Andrea Piccione",
      "photoUrl": "https://lh3.googleusercontent.com/a-/AOh14GiSPFO34Ds8ny26kw1UmmNXztv1KJ8K3YgBNM11gw=s64",
      "userId": "08515391909662815456"
     },
     "user_tz": -60
    },
    "id": "1xs2vY9uBK4A"
   },
   "outputs": [],
   "source": [
    "# Requesting all wolrd bank locations names and codes\n",
    "locations = requests.get(\"http://api.worldbank.org/v2/country?format=json&source=6&per_page=300\")\n",
    "locations_json = locations.json()"
   ]
  },
  {
   "cell_type": "code",
   "execution_count": null,
   "metadata": {
    "executionInfo": {
     "elapsed": 1205,
     "status": "ok",
     "timestamp": 1604071648681,
     "user": {
      "displayName": "Andrea Piccione",
      "photoUrl": "https://lh3.googleusercontent.com/a-/AOh14GiSPFO34Ds8ny26kw1UmmNXztv1KJ8K3YgBNM11gw=s64",
      "userId": "08515391909662815456"
     },
     "user_tz": -60
    },
    "id": "fmGIL40BBjfm"
   },
   "outputs": [],
   "source": [
    "# Parse through the response to filter european (ECS) countries IDs and names\n",
    "europe_countries = {}\n",
    "for i in locations_json[1]:\n",
    "  if i[\"region\"][\"id\"] == \"ECS\":\n",
    "    europe_countries[i[\"id\"]] = i[\"name\"]"
   ]
  },
  {
   "cell_type": "code",
   "execution_count": null,
   "metadata": {
    "colab": {
     "base_uri": "https://localhost:8080/"
    },
    "executionInfo": {
     "elapsed": 16929,
     "status": "ok",
     "timestamp": 1604071940164,
     "user": {
      "displayName": "Andrea Piccione",
      "photoUrl": "https://lh3.googleusercontent.com/a-/AOh14GiSPFO34Ds8ny26kw1UmmNXztv1KJ8K3YgBNM11gw=s64",
      "userId": "08515391909662815456"
     },
     "user_tz": -60
    },
    "id": "Ox_6Hc4FByy3",
    "outputId": "43d64d7e-aac7-4c8e-d752-e1b3c8f48609"
   },
   "outputs": [],
   "source": [
    "europe_countries_ids = list(europe_countries.keys())\n",
    "timeSelection = (datetime.datetime(2006, 1, 1), datetime.datetime(2016, 12, 31))\n",
    "for country in europe_countries_ids:\n",
    "  try:\n",
    "      print('Saving {} data'.format(country))\n",
    "      energy_data = wb.get_dataframe({'3.1_RE.CONSUMPTION' : 'Renewable energy consumption (TJ)'}, data_date=timeSelection, country=country)\n",
    "      energy_data.to_csv(europe_countries[country] + '_REC_2006_2016.csv')\n",
    "  except Exception as e:\n",
    "    print(e)\n"
   ]
  },
  {
   "cell_type": "code",
   "execution_count": null,
   "metadata": {},
   "outputs": [],
   "source": []
  }
 ],
 "metadata": {
  "colab": {
   "collapsed_sections": [],
   "name": "LAB1_solutions_part_II.ipynb",
   "provenance": [
    {
     "file_id": "1uOFNFQ_xU-yTGK_eFYLNdLle3lPX3ezf",
     "timestamp": 1603899510575
    },
    {
     "file_id": "1HXjyjuj11ovY200lbVrY4ksJrv4eEphn",
     "timestamp": 1603281631972
    }
   ]
  },
  "kernelspec": {
   "display_name": "Python 3 (ipykernel)",
   "language": "python",
   "name": "python3"
  },
  "language_info": {
   "codemirror_mode": {
    "name": "ipython",
    "version": 3
   },
   "file_extension": ".py",
   "mimetype": "text/x-python",
   "name": "python",
   "nbconvert_exporter": "python",
   "pygments_lexer": "ipython3",
   "version": "3.9.12"
  }
 },
 "nbformat": 4,
 "nbformat_minor": 4
}
